{
 "cells": [
  {
   "cell_type": "markdown",
   "metadata": {},
   "source": [
    "# Final Project - Almost Nbody simulation"
   ]
  },
  {
   "cell_type": "markdown",
   "metadata": {},
   "source": [
    "I uploaded a pdf where I explain my ideas for this code."
   ]
  },
  {
   "cell_type": "code",
   "execution_count": null,
   "metadata": {},
   "outputs": [],
   "source": [
    "import numpy as np\n",
    "import random\n",
    "import matplotlib.pyplot as plt"
   ]
  },
  {
   "cell_type": "markdown",
   "metadata": {},
   "source": [
    "First, create a function that returns the FFT of the green function on the grid"
   ]
  },
  {
   "cell_type": "code",
   "execution_count": 136,
   "metadata": {},
   "outputs": [],
   "source": [
    "def green_function(n,shift):\n",
    "    '''\n",
    "    n: number of bins\n",
    "    shift: because my system of reference goes from 0 to L, this centers the Green function\n",
    "    RETURNS: the fft of the green function\n",
    "    '''\n",
    "    x = np.arange(0,n+1)\n",
    "    y = x.copy()\n",
    "    x_mid = []\n",
    "    y_mid = []\n",
    "    # calculate the midpoint\n",
    "    for i in range(n):\n",
    "        x_mid.append((x[i]+x[i+1])/2)\n",
    "        y_mid.append((y[i]+y[i+1])/2)\n",
    "    X,Y = np.meshgrid(x_mid,y_mid)\n",
    "    '''\n",
    "    plt.grid()\n",
    "    plt.plot(X,Y,'.')\n",
    "    plt.xticks(x)\n",
    "    plt.yticks(y)\n",
    "    plt.show()\n",
    "    '''\n",
    "    eps = 0.5\n",
    "    # move to the center of the grid in case the length goes from 0...L\n",
    "    R = 4*np.pi*np.sqrt((X-shift)**2 + (Y-shift)**2+eps**2)\n",
    "    G = 1.0/R\n",
    "    Gft = np.fft.rfft2(G)\n",
    "    return Gft\n",
    "\n"
   ]
  },
  {
   "cell_type": "markdown",
   "metadata": {},
   "source": [
    "Now the function nbodyevolve takes:\n",
    "\n",
    "- the x and y positions of the particles\n",
    "- the vx and vy velocities of the particles\n",
    "- dt the time step\n",
    "- the number of bins on the grid\n",
    "- the FT of the green's function\n",
    "\n",
    "and returns:\n",
    "\n",
    "- new x position, new y position\n",
    "- total energy\n",
    "- potential\n",
    "Only for part 2:\n",
    "- force on particle 1\n",
    "- distance between particles\n",
    "otherwise, comment those variables.\n",
    " "
   ]
  },
  {
   "cell_type": "code",
   "execution_count": 135,
   "metadata": {},
   "outputs": [],
   "source": [
    "def nbodyevolve(x,y,vx,vy,dt,nbins,Gft):\n",
    "    # Get density\n",
    "    rho,x_edges,y_edges = np.histogram2d(x,y,bins=nbins,range=[[0,nbins],[0,nbins]],normed=True)\n",
    "    #print(rho)\n",
    "    #print('xi',x)\n",
    "    #print('yi',y)\n",
    "    # Find the index position of the particles\n",
    "    x_index = []\n",
    "    y_index = []   \n",
    "    for i in range(len(rho)):\n",
    "        for j in range(len(rho)):\n",
    "            if rho[i,j]!=0:\n",
    "                x_index.append(j)\n",
    "                y_index.append(i)\n",
    "    # compute fourier transform of rho \n",
    "    rhoft = np.fft.rfft2(rho)\n",
    "    aux = rhoft*Gft\n",
    "    # compute phi, the potential\n",
    "    phi = np.fft.irfft2(aux) \n",
    "    #Roll when the nbins is odd\n",
    "    if nbins%2 != 0:\n",
    "        phi = np.roll(phi,1,axis=(0,1)) \n",
    "    phi = np.fft.fftshift(phi) \n",
    "    phi = phi.transpose()\n",
    "    # Calculate the force, which is equal to a\n",
    "    a = np.gradient(phi)\n",
    "    #print(a)\n",
    "    ax = a[0]\n",
    "    ay = a[1]\n",
    "    #print('ax',a[0])\n",
    "    #print('ay',a[1]) \n",
    "    ax_particle=[]\n",
    "    ay_particle=[]\n",
    "# update positions\n",
    "    x += vx*dt\n",
    "    y += vy*dt \n",
    "# update velocities\n",
    "    for i in range(len(y_index)):\n",
    "        #print('i',i)\n",
    "        # number of particles inside bin\n",
    "        yy = y_index[i]\n",
    "        #print('yy',yy)\n",
    "        xx = x_index[i]\n",
    "        #print('xx',xx)\n",
    "        #print('ax index',ax[yy,xx])\n",
    "        #print('ay index',ay[yy,xx])\n",
    "        vx[i]+= ax[yy,xx]*dt\n",
    "        vy[i]+= ay[yy,xx]*dt\n",
    "        ax_particle.append(ax[yy,xx])\n",
    "        ay_particle.append(ay[yy,xx])\n",
    "    #print('vx',vx)\n",
    "    #print('vy',vy)\n",
    "\n",
    "# calculate the energy\n",
    "    Ekin = 0.5*np.sum(vx**2+vy**2)\n",
    "    Epot = 0.5*np.sum(phi)\n",
    "    Etot = Ekin+Epot \n",
    "    \n",
    "### this is for part 2    \n",
    "# calculate magnitude of the force over particle 1\n",
    "    #f1 = np.sqrt(ax_particle[0]**2+ay_particle[0]**2)\n",
    "# and the distance between the particles\n",
    "    #r = np.sqrt((x[1]-x[0])**2+(y[1]-y[0])**2)\n",
    "    return x,y,Etot,phi#,f1,r"
   ]
  },
  {
   "cell_type": "markdown",
   "metadata": {},
   "source": [
    "# Part 1"
   ]
  },
  {
   "cell_type": "code",
   "execution_count": 290,
   "metadata": {},
   "outputs": [],
   "source": [
    "# Set the number of particles\n",
    "N = 1\n",
    "\n",
    "# Set the dimensions of the grid (I'll choose a square grid)\n",
    "\n",
    "nbins = 255\n",
    "\n",
    "\n",
    "x = np.array([nbins/2.0])\n",
    "y = np.array([nbins/2.0])\n",
    "\n",
    "# create a grid to calculate Green's function\n",
    "green = green_function(nbins,nbins/2)\n",
    "\n",
    "vx = np.array([0.0])\n",
    "vy = vx.copy()\n",
    "  \n",
    "niter = 100\n",
    "dt = 0.1\n",
    "e_tot = []\n",
    "\n",
    "for i in range(niter):\n",
    "    x_new,y_new,Etot,phi = nbodyevolve(x,y,vx,vy,dt,nbins,green)\n",
    "    e_tot.append(Etot)\n",
    "    plt.ylim(0,nbins)\n",
    "    plt.xlim(0,nbins)\n",
    "    plt.plot(x_new,y_new,'.')\n",
    "    plt.title(str(i)+' iteration')\n",
    "    plt.savefig('write_{:06}.png'.format(i))\n",
    "    plt.close()\n",
    "\n",
    "    \n",
    "# once i have all the pictures, to make the video write on the terminal:\n",
    "# ffmpeg -framerate 30 -pattern_type glob -i '*.png'   -c:v libx264 -pix_fmt yuv420p out.mp4\n"
   ]
  },
  {
   "cell_type": "markdown",
   "metadata": {},
   "source": [
    "Keep track of the energy"
   ]
  },
  {
   "cell_type": "code",
   "execution_count": 292,
   "metadata": {},
   "outputs": [
    {
     "data": {
      "image/png": "[encoded data removed]",
      "text/plain": [
       "<Figure size 432x288 with 1 Axes>"
      ]
     },
     "metadata": {
      "needs_background": "light"
     },
     "output_type": "display_data"
    }
   ],
   "source": [
    "plt.plot(e_tot)\n",
    "plt.ylim(0,100)\n",
    "plt.xlabel('Iteration')\n",
    "plt.ylabel('Total energy')\n",
    "#plt.legend(loc='best')\n",
    "plt.show()"
   ]
  },
  {
   "cell_type": "markdown",
   "metadata": {},
   "source": [
    "## Part 2\n",
    "\n",
    "For the two bodies to remain in circular orbit, the centripetal force must be equal to gravity. So, for particle 1, which distance to the center is $r_1$:\n",
    "\n",
    "\\begin{equation}\n",
    "m_1 \\frac{v_1^2}{r_1} = \\frac{Gm_1 m_2}{(r_1+r_2)^2}\n",
    "\\end{equation}\n",
    "\n",
    "but we are assuming that $G=m_1=m_2=1$. Also, $r_1=r_2$. So:\n",
    "\n",
    "\\begin{equation}\n",
    "v_1 = \\frac{1}{2\\sqrt{r_1}}\n",
    "\\end{equation}\n",
    "\n",
    "Since the idea is that the particles start with the same velocities, but opposite: $v_1 = - v_2$.\n",
    "Setting these conditions should result in a circular orbit.\n",
    "\n",
    "In my code, I put the particles at a distance $R/2$ from the center of the grid, so that the total distance is $R$. The initial velocities are set according to the equation above."
   ]
  },
  {
   "cell_type": "code",
   "execution_count": 308,
   "metadata": {},
   "outputs": [
    {
     "data": {
      "image/png": "[encoded data removed]",
      "text/plain": [
       "<Figure size 432x288 with 1 Axes>"
      ]
     },
     "metadata": {
      "needs_background": "light"
     },
     "output_type": "display_data"
    }
   ],
   "source": [
    "### Part 2\n",
    "nbins = 255\n",
    "\n",
    "# first set the distance between the particles (must remain constant approx)\n",
    "R = 5.0\n",
    "# now the positions:\n",
    "y = np.array([nbins/2.0,nbins/2.0])\n",
    "x = np.array([(nbins/2.0)-(R/2.0),(nbins/2.0)+(R/2.0)])\n",
    "\n",
    "plt.plot(x,y,'.')\n",
    "\n",
    "plt.xlim(0,nbins)\n",
    "plt.ylim(0,nbins)\n",
    "vx = np.array([0.0,0.0])\n",
    "vy = np.array([-1.0/(2*np.sqrt(R)),1.0/(2*np.sqrt(R))])\n",
    "\n",
    "green = green_function(nbins,nbins/2.0)"
   ]
  },
  {
   "cell_type": "code",
   "execution_count": 310,
   "metadata": {},
   "outputs": [],
   "source": [
    "e_tot = []\n",
    "f_particle1 = []\n",
    "distance = []\n",
    "dt = 0.01\n",
    "for i in range(2000):\n",
    "    x_new,y_new,Etot,pot,f,d = nbodyevolve(x,y,vx,vy,dt,nbins,green)\n",
    "    e_tot.append(Etot)\n",
    "    f_particle1.append(f)\n",
    "    distance.append(d)\n",
    "    '''\n",
    "    plt.figure()\n",
    "    plt.pcolormesh(pot)\n",
    "    plt.plot(y_new,x_new,'.',color='red')\n",
    "    plt.xlim(0,nbins)\n",
    "    plt.ylim(0,nbins)\n",
    "    plt.show()\n",
    "    ###\n",
    "    '''\n",
    "    plt.plot(x_new,y_new,'.',color='red')\n",
    "    plt.xlim(90,150)\n",
    "    plt.ylim(90,150)\n",
    "    plt.title(str(i)+' iteration')\n",
    "    plt.savefig('write_{:06}.png'.format(i))\n",
    "    plt.close()"
   ]
  },
  {
   "cell_type": "markdown",
   "metadata": {},
   "source": [
    "Because clearly my code is not working, I plot below:\n",
    "\n",
    "- the total energy\n",
    "- the distance between the particles at each iteration\n",
    "- the force on particle 1 at each iteration\n",
    "\n",
    "If the orbit is circular, I should observe:\n",
    "\n",
    "- Approximately constant energy\n",
    "- Approximately constant distance\n",
    "- Approximately constant force\n",
    "\n",
    "But I observe instead:\n",
    "\n",
    "- energy IS approx. constant\n",
    "- distance increases with iteration\n",
    "- force oscillates\n",
    "\n",
    "The only explanation I could find is that the code is failing. Specifically, since the force is not constant, the big must be here or when I calculate the potential. Honestly, I couldn't find it :("
   ]
  },
  {
   "cell_type": "code",
   "execution_count": 311,
   "metadata": {},
   "outputs": [
    {
     "data": {
      "image/png": "[encoded data removed]",
      "text/plain": [
       "<Figure size 432x288 with 1 Axes>"
      ]
     },
     "metadata": {
      "needs_background": "light"
     },
     "output_type": "display_data"
    },
    {
     "data": {
      "image/png": "[encoded data removed]",
      "text/plain": [
       "<Figure size 432x288 with 1 Axes>"
      ]
     },
     "metadata": {
      "needs_background": "light"
     },
     "output_type": "display_data"
    },
    {
     "data": {
      "image/png": "[encoded data removed]",
      "text/plain": [
       "<Figure size 432x288 with 1 Axes>"
      ]
     },
     "metadata": {
      "needs_background": "light"
     },
     "output_type": "display_data"
    }
   ],
   "source": [
    "plt.figure()\n",
    "plt.plot(e_tot)\n",
    "plt.xlabel('Iteration')\n",
    "plt.ylabel('Total energy')\n",
    "\n",
    "plt.show()\n",
    "plt.figure()\n",
    "plt.plot(distance)\n",
    "plt.title('distance')\n",
    "plt.show()\n",
    "\n",
    "plt.figure()\n",
    "plt.plot(f_particle1)\n",
    "plt.title('f_particle1')\n",
    "plt.show()"
   ]
  },
  {
   "cell_type": "markdown",
   "metadata": {},
   "source": [
    "### Part 3"
   ]
  },
  {
   "cell_type": "markdown",
   "metadata": {},
   "source": [
    "### For periodic boundary conditions\n",
    "\n",
    "Here I use the same function as in parts 1 and 2, but adding extra lines that force the particle's positions to be at the opposite edge when they reach one of the edges. This results in periodic boundary conditions."
   ]
  },
  {
   "cell_type": "code",
   "execution_count": 137,
   "metadata": {},
   "outputs": [],
   "source": [
    "def nbodyevolve(x,y,vx,vy,dt,nbins,Gft,bc):\n",
    "    # Get density\n",
    "    rho,x_edges,y_edges = np.histogram2d(x,y,bins=nbins,range=[[0,nbins],[0,nbins]],normed=True)\n",
    "\n",
    "    # Find the index position of the particles\n",
    "    x_index = []\n",
    "    y_index = []   \n",
    "    for i in range(len(rho)):\n",
    "        for j in range(len(rho)):\n",
    "            if rho[i,j]!=0:\n",
    "                x_index.append(j)\n",
    "                y_index.append(i)\n",
    "    # compute fourier transform of rho \n",
    "    rhoft = np.fft.rfft2(rho)\n",
    "    aux = rhoft*Gft\n",
    "    # compute phi, the potential\n",
    "    phi = np.fft.irfft2(aux) \n",
    "    #Roll when the nbins is odd\n",
    "    if nbins%2 != 0:\n",
    "        phi = np.roll(phi,1,axis=(0,1)) \n",
    "    phi = np.fft.fftshift(phi) \n",
    "    phi = phi.transpose()\n",
    "    # Calculate the force, which is equal to a\n",
    "    a = np.gradient(phi)\n",
    "    #print(a)\n",
    "    ax = a[0]\n",
    "    ay = a[1]\n",
    "    #print('ax',a[0])\n",
    "    #print('ay',a[1])   \n",
    "# update velocities\n",
    "    for i in range(len(y_index)):\n",
    "        #print('i',i)\n",
    "        # number of particles inside bin\n",
    "        yy = y_index[i]\n",
    "        #print('yy',yy)\n",
    "        xx = x_index[i]\n",
    "        #print('xx',xx)\n",
    "        #print('ax index',ax[yy,xx])\n",
    "        #print('ay index',ay[yy,xx])\n",
    "        vx[i]+= ax[yy,xx]*dt\n",
    "        vy[i]+= ay[yy,xx]*dt\n",
    "    #print('vx',vx)\n",
    "    #print('vy',vy)\n",
    "# periodic conditions\n",
    "    if bc=='periodic':\n",
    "        for i in range(len(x)):\n",
    "            if x[i]>x_edges[-1]:\n",
    "                x[i] = x[i]-nbins\n",
    "            if x[i]<x_edges[0]:\n",
    "                x[i] = x[i]+nbins\n",
    "            if y[i]>y_edges[-1]:\n",
    "                y[i] = y[i]-nbins\n",
    "            if y[i]<y_edges[0]:\n",
    "                y[i] = y[i]+nbins\n",
    "# update positions\n",
    "    x += vx*dt\n",
    "    y += vy*dt \n",
    "    #print('x',x)\n",
    "    #print('y',y)\n",
    "# calculate the energy\n",
    "    Ekin = 0.5*np.sum(vx**2+vy**2)\n",
    "    Epot = 0.5*np.sum(phi)\n",
    "    Etot = Ekin+Epot    \n",
    "    \n",
    "    return x,y,Etot,phi"
   ]
  },
  {
   "cell_type": "code",
   "execution_count": 145,
   "metadata": {},
   "outputs": [],
   "source": [
    "N = 100000\n",
    "\n",
    "nbins = 512\n",
    "\n",
    "x = np.random.uniform(0, nbins, N)\n",
    "y = np.random.uniform(0, nbins, N)\n",
    "\n",
    "# create a grid to calculate Green's function\n",
    "green = green_function(nbins,nbins/2)\n",
    "\n",
    "vx = 0*x\n",
    "vy = vx.copy()\n",
    "\n",
    "#plt.figure()\n",
    "#plt.plot(x,y,'.')\n",
    "#plt.ylim(0,L)\n",
    "#plt.xlim(0,L)    \n",
    "niter = 2000\n",
    "dt = 100.0\n",
    "e_tot = []\n",
    "\n",
    "\n",
    "for i in range(niter):\n",
    "    x_new,y_new,Etot,pot = nbodyevolve(x,y,vx,vy,dt,nbins,green,bc='periodic')\n",
    "    e_tot.append(Etot)\n",
    "    #print('vx',vx_new)\n",
    "    #print('vy',vy_new)\n",
    "    #plt.figure()\n",
    "    #plt.pcolormesh(pot)\n",
    "    #plt.colorbar()\n",
    "    #plt.grid()\n",
    "    #plt.scatter(x_new,y_new,color='red')\n",
    "    #plt.xlim(-L,L)\n",
    "    #plt.ylim(-L,L)\n",
    "    #plt.xticks(x_edges)\n",
    "    #plt.yticks(y_edges)\n",
    "    #plt.show()\n",
    "   \n",
    "    plt.ylim(0,nbins)\n",
    "    plt.xlim(0,nbins)\n",
    "    plt.imshow(pot)\n",
    "    #plt.scatter(x_new,y_new,color='red')\n",
    "    plt.title(str(i)+' iteration')\n",
    "    plt.savefig('write_{:06}.png'.format(i))\n",
    "    plt.close()\n",
    "   \n",
    "   "
   ]
  },
  {
   "cell_type": "markdown",
   "metadata": {},
   "source": [
    "Watch the video!\n",
    "\n",
    "Now keep track of the energy, it remains ALMOST constant."
   ]
  },
  {
   "cell_type": "code",
   "execution_count": 148,
   "metadata": {},
   "outputs": [
    {
     "data": {
      "image/png": "[encoded data removed]",
      "text/plain": [
       "<Figure size 432x288 with 1 Axes>"
      ]
     },
     "metadata": {
      "needs_background": "light"
     },
     "output_type": "display_data"
    }
   ],
   "source": [
    "plt.plot(e_tot)\n",
    "plt.xlabel('Iteration')\n",
    "plt.ylabel('Total energy')\n",
    "plt.show()"
   ]
  },
  {
   "cell_type": "markdown",
   "metadata": {},
   "source": [
    "### For non periodic boundary conditions\n",
    "\n",
    "The idea is to remove the periodicity imposed by the FFT. To do this:\n",
    "- Add empty space around the original\n",
    "- calculate the potential using the new grid\n",
    "- remove the particles that lie outside the original grid\n",
    "- remove the extra space"
   ]
  },
  {
   "cell_type": "markdown",
   "metadata": {},
   "source": [
    "## Part 4"
   ]
  },
  {
   "cell_type": "markdown",
   "metadata": {},
   "source": [
    "What I understand here is that the initial mass density should now have fluctuations proportional to $k^{-3}$. To do this:\n",
    "\n",
    "- take the FFT of the initial density $\\rho_i$ and compute $\\rho_i^{3}$ in the fourier space. This should be $k^3$.\n",
    "- Add fluctuations proportional to $k^{-3}$, i.e., random noise = $c k^{-3}$, where $c$ is chosen.\n",
    "- take the IFFT of the new density\n",
    "\n",
    "The mass is incorporated by adding the weight parameter in np.histogram2d, so now we have to give an extra array of masses. These masses are obtained from the new density. But how do we assign masses from the new density matrix?\n",
    "To do this\n",
    "\n",
    "- find the bins with particles\n",
    "- Let the new mass be a fraction of the old mass\n"
   ]
  },
  {
   "cell_type": "code",
   "execution_count": 149,
   "metadata": {},
   "outputs": [],
   "source": [
    "def new_mass(x,y,nbins,c,m):\n",
    "    rho = np.histogram2d(x,y,bins=nbins,range=[[0,nbins],[0,nbins]],weights=m,normed=True)[0]\n",
    "    # saves the index of the bins with particles\n",
    "    x_index = []\n",
    "    y_index = []   \n",
    "    for i in range(len(rho)):\n",
    "        for j in range(len(rho)):\n",
    "            if rho[i,j]!=0:\n",
    "                x_index.append(j)\n",
    "                y_index.append(i)\n",
    "    # compute fourier transform of rho \n",
    "    rhoft = np.fft.rfft2(rho)\n",
    "    k3 = rhoft**3\n",
    "    rho_newft = rhoft + c*np.random.randn(rhoft.shape[0],rhoft.shape[1])/k3\n",
    "    rho_new = np.abs(np.fft.irfft2(rho_newft))\n",
    "    rho_new = np.fft.fftshift(rho_new)\n",
    "    new_mass = np.zeros(x.shape)\n",
    "    #print(rho_new)\n",
    "    for i in range(len(y_index)):\n",
    "        yy = y_index[i]\n",
    "        xx = x_index[i]\n",
    "        new_mass[i]=rho_new[yy,xx]/rho[yy,xx]\n",
    "\n",
    "    return new_mass\n"
   ]
  },
  {
   "cell_type": "code",
   "execution_count": 150,
   "metadata": {},
   "outputs": [],
   "source": [
    "def nbodyevolvemass(x,y,vx,vy,dt,nbins,Gft,m,bc):\n",
    "    rho,x_edges,y_edges = np.histogram2d(x,y,bins=nbins,range=[[0,nbins],[0,nbins]],normed=True,weights=m)\n",
    "    x_index = []\n",
    "    y_index = []   \n",
    "    for i in range(len(rho)):\n",
    "        for j in range(len(rho)):\n",
    "            if rho[i,j]!=0:\n",
    "                x_index.append(j)\n",
    "                y_index.append(i)\n",
    "    rhoft = np.fft.rfft2(rho)\n",
    "    aux = rhoft*Gft\n",
    "    phi = np.fft.irfft2(aux) \n",
    "    if nbins%2 != 0:\n",
    "        phi = np.roll(phi,1,axis=(0,1)) \n",
    "    phi = np.fft.fftshift(phi) \n",
    "    phi = phi.transpose()\n",
    "    a = np.gradient(phi)\n",
    "    ax = a[0]\n",
    "    ay = a[1] \n",
    "# update velocities\n",
    "    for i in range(len(y_index)):\n",
    "        yy = y_index[i]\n",
    "        xx = x_index[i]\n",
    "        vx[i]+= ax[yy,xx]*dt\n",
    "        vy[i]+= ay[yy,xx]*dt\n",
    "# periodic conditions\n",
    "    if bc=='periodic':\n",
    "        for i in range(len(x)):\n",
    "            if x[i]>x_edges[-1]:\n",
    "                x[i] = x[i]-nbins\n",
    "            if x[i]<x_edges[0]:\n",
    "                x[i] = x[i]+nbins\n",
    "            if y[i]>y_edges[-1]:\n",
    "                y[i] = y[i]-nbins\n",
    "            if y[i]<y_edges[0]:\n",
    "                y[i] = y[i]+nbins\n",
    "# update positions\n",
    "    x += vx*dt\n",
    "    y += vy*dt \n",
    "# calculate the energy\n",
    "    Ekin = 0.5*np.sum(vx**2+vy**2)\n",
    "    Epot = 0.5*np.sum(phi)\n",
    "    Etot = Ekin+Epot    \n",
    "    \n",
    "    return x,y,Etot,phi"
   ]
  },
  {
   "cell_type": "markdown",
   "metadata": {},
   "source": [
    "Now run the same simulation of part 3, but with the new masses."
   ]
  },
  {
   "cell_type": "code",
   "execution_count": 151,
   "metadata": {},
   "outputs": [],
   "source": [
    "N = 100000\n",
    "\n",
    "nbins = 512\n",
    "\n",
    "x = np.random.uniform(0, nbins, N)\n",
    "y = np.random.uniform(0, nbins, N)\n",
    "\n",
    "green = green_function(nbins,nbins/2)\n",
    "\n",
    "x = np.random.uniform(0, nbins, N)\n",
    "y = np.random.uniform(0, nbins, N)\n",
    "\n",
    "vx = 0*x\n",
    "vy = vx.copy()\n",
    "\n",
    "m = np.ones(x.shape)\n",
    "mass_k3 = new_mass(x,y,nbins,1.0,m)\n",
    "\n",
    "niter = 2000\n",
    "dt = 100\n",
    "e_tot = []\n",
    "\n",
    "for i in range(niter):\n",
    "    x_new,y_new,Etot,pot= nbodyevolvemass(x,y,vx,vy,dt,nbins,green,mass_k3,bc='periodic')\n",
    "    e_tot.append(Etot)\n",
    "    plt.ylim(0,nbins)\n",
    "    plt.xlim(0,nbins)\n",
    "    plt.imshow(pot)\n",
    "    plt.title(str(i)+' iteration')\n",
    "    plt.savefig('write_{:06}.png'.format(i))\n",
    "    plt.close()"
   ]
  },
  {
   "cell_type": "code",
   "execution_count": 152,
   "metadata": {},
   "outputs": [
    {
     "data": {
      "image/png": "[encoded data removed]",
      "text/plain": [
       "<Figure size 432x288 with 1 Axes>"
      ]
     },
     "metadata": {
      "needs_background": "light"
     },
     "output_type": "display_data"
    }
   ],
   "source": [
    "plt.plot(e_tot)\n",
    "plt.xlabel('Iteration')\n",
    "plt.ylabel('Total energy')\n",
    "#plt.legend(loc='best')\n",
    "plt.show()"
   ]
  },
  {
   "cell_type": "markdown",
   "metadata": {},
   "source": [
    "# HAPPY HOLIDAYS!!!!!!!!!"
   ]
  },
  {
   "cell_type": "code",
   "execution_count": null,
   "metadata": {},
   "outputs": [],
   "source": []
  }
 ],
 "metadata": {
  "kernelspec": {
   "display_name": "Python 3",
   "language": "python",
   "name": "python3"
  },
  "language_info": {
   "codemirror_mode": {
    "name": "ipython",
    "version": 3
   },
   "file_extension": ".py",
   "mimetype": "text/x-python",
   "name": "python",
   "nbconvert_exporter": "python",
   "pygments_lexer": "ipython3",
   "version": "3.7.4"
  }
 },
 "nbformat": 4,
 "nbformat_minor": 2
}
