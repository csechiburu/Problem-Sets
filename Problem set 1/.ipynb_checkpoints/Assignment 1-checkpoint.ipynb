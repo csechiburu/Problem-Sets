{
 "cells": [
  {
   "cell_type": "code",
   "execution_count": 23,
   "metadata": {},
   "outputs": [
    {
     "name": "stdout",
     "output_type": "stream",
     "text": [
      "1.62166\n"
     ]
    },
    {
     "data": {
      "text/plain": [
       "'\\n# Create an array of temperatures in the range given by \"temp\"\\n# with \"points\" number of points\\npoints = 200\\nX = np.linspace(1,520,points)\\n\\n\\n#### Plotting\\nplt.plot(X,cubicspline(X),linestyle=\"-\",label=\"NaK Cubic Spline\")\\nplt.plot(temp,volt,\".\")\\nplt.xlabel(\"Temperature (K)\")\\nplt.ylabel(\"Voltage (V)\")\\nplt.xlim(0,10)\\n'"
      ]
     },
     "execution_count": 23,
     "metadata": {},
     "output_type": "execute_result"
    }
   ],
   "source": [
    "import numpy as np\n",
    "from scipy.interpolate import CubicSpline\n",
    "import matplotlib.pyplot as plt\n",
    "import random\n",
    "\n",
    "temp,volt,dv_dt = np.loadtxt(\"lakeshore.txt\", usecols=(0,1,2), unpack=True)\n",
    "# First take an arbitrary voltage\n",
    "random_volt = random.uniform(volt[0],volt[-1])\n",
    "# Interpolate the data points using not-a-knot method\n",
    "cubicspline = CubicSpline(temp,volt,bc_type='not-a-knot')\n",
    "# If I call cubicspline(temp) it will give me the corresponding voltage\n",
    "# but I want it the other way\n",
    "\n",
    "\"\"\"\n",
    "# Create an array of temperatures in the range given by \"temp\"\n",
    "# with \"points\" number of points\n",
    "points = 200\n",
    "X = np.linspace(1,520,points)\n",
    "\n",
    "\n",
    "#### Plotting\n",
    "plt.plot(X,cubicspline(X),linestyle=\"-\",label=\"NaK Cubic Spline\")\n",
    "plt.plot(temp,volt,\".\")\n",
    "plt.xlabel(\"Temperature (K)\")\n",
    "plt.ylabel(\"Voltage (V)\")\n",
    "plt.xlim(0,10)\n",
    "\"\"\""
   ]
  },
  {
   "cell_type": "markdown",
   "metadata": {},
   "source": []
  }
 ],
 "metadata": {
  "kernelspec": {
   "display_name": "Python 3",
   "language": "python",
   "name": "python3"
  },
  "language_info": {
   "codemirror_mode": {
    "name": "ipython",
    "version": 3
   },
   "file_extension": ".py",
   "mimetype": "text/x-python",
   "name": "python",
   "nbconvert_exporter": "python",
   "pygments_lexer": "ipython3",
   "version": "3.6.6"
  }
 },
 "nbformat": 4,
 "nbformat_minor": 2
}
